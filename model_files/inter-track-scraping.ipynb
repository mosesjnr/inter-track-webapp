{
 "cells": [
  {
   "cell_type": "code",
   "execution_count": null,
   "metadata": {},
   "outputs": [],
   "source": [
    "# import libraries\n",
    "import requests\n",
    "from bs4 import BeautifulSoup\n",
    "import pandas as pd\n",
    "import numpy as np"
   ]
  },
  {
   "cell_type": "code",
   "execution_count": null,
   "metadata": {},
   "outputs": [],
   "source": [
    "#base_url = 'https://www.propertypro.ng/property-for-rent/in/lagos'\n",
    "base_url = 'https://www.propertypro.ng/property-for-rent/flat-apartment/in/lagos/?search=Lagos&bedroom=3' # add &page=1 to the page ending\n",
    "headers =  {'User-Agent': 'Mozilla/5.0 (Linux; Android 6.0; Nexus 5 Build/MRA58N) AppleWebKit/537.36 (KHTML, like Gecko) Chrome/87.0.4280.66 Mobile Safari/537.36'}"
   ]
  },
  {
   "cell_type": "code",
   "execution_count": null,
   "metadata": {},
   "outputs": [],
   "source": [
    "#  Requesting the data  from url.\n",
    "r = requests.get(base_url, headers=headers)\n",
    "r.status_code"
   ]
  },
  {
   "cell_type": "code",
   "execution_count": null,
   "metadata": {},
   "outputs": [],
   "source": [
    "soup = BeautifulSoup(r.text,'lxml')\n",
    "print(soup.title.get_text())"
   ]
  },
  {
   "cell_type": "code",
   "execution_count": null,
   "metadata": {},
   "outputs": [],
   "source": [
    "titles = soup.select('.single-room-text > a > h2')\n",
    "len(titles)"
   ]
  },
  {
   "cell_type": "code",
   "execution_count": null,
   "metadata": {},
   "outputs": [],
   "source": [
    "titles_list = []\n",
    "for title in titles:\n",
    "    title = title.get_text()\n",
    "    title = title.split()\n",
    "    title = title[0:3]\n",
    "    title = ' '.join(title)\n",
    "    titles_list.append(title)\n",
    "#titles_list"
   ]
  },
  {
   "cell_type": "code",
   "execution_count": null,
   "metadata": {},
   "outputs": [],
   "source": [
    "# find all prices\n",
    "prices = soup.select('.n50 > h3 > span')"
   ]
  },
  {
   "cell_type": "code",
   "execution_count": null,
   "metadata": {},
   "outputs": [],
   "source": [
    "# fixing all prices\n",
    "prices_list = []\n",
    "for i, price in enumerate(prices):\n",
    "    price = price.get_text()\n",
    "    if len(price)> 2:\n",
    "        price = price.replace(',','')\n",
    "        try :\n",
    "            price = int(price)\n",
    "        except ValueError:\n",
    "            price = str(price)    \n",
    "        prices_list.append(price)\n",
    "\n",
    "len(prices)\n",
    "#prices_list"
   ]
  },
  {
   "cell_type": "code",
   "execution_count": null,
   "metadata": {},
   "outputs": [],
   "source": [
    "locations = soup.select('.single-room-text > h4')\n",
    "\n",
    "len(locations)\n",
    "\n",
    "locations_list = []\n",
    "for i in locations:\n",
    "    loc = i.get_text().split()\n",
    "    loc = loc[-2]\n",
    "    loc = loc.replace(',', '')\n",
    "    locations_list.append(loc)\n",
    "#locations_list"
   ]
  },
  {
   "cell_type": "code",
   "execution_count": null,
   "metadata": {},
   "outputs": [],
   "source": [
    "Amenities = soup.select('.fur-areea > span')\n",
    "len(Amenities)"
   ]
  },
  {
   "cell_type": "code",
   "execution_count": null,
   "metadata": {},
   "outputs": [],
   "source": [
    "Amenities[3].text"
   ]
  },
  {
   "cell_type": "code",
   "execution_count": null,
   "metadata": {},
   "outputs": [],
   "source": [
    "toilet_list = []\n",
    "bath_list = []\n",
    "bed_list = []"
   ]
  },
  {
   "cell_type": "code",
   "execution_count": null,
   "metadata": {},
   "outputs": [],
   "source": [
    "for i, a in enumerate(Amenities):\n",
    "    if i in range(2,66,3):\n",
    "        a = a.get_text().split()\n",
    "        toilet = a[0]\n",
    "        toilet_list.append(toilet)\n",
    "    elif i in range(1,66,3):\n",
    "        a = a.get_text().split()\n",
    "        bath = a[0]\n",
    "        bath_list.append(bath)\n",
    "    elif i in range (0,66,3):\n",
    "        a = a.get_text().split()\n",
    "        bed = a[0]\n",
    "        bed_list.append(bed)"
   ]
  },
  {
   "cell_type": "code",
   "execution_count": null,
   "metadata": {},
   "outputs": [],
   "source": [
    "toilet_list\n",
    "len(toilet_list)"
   ]
  },
  {
   "cell_type": "code",
   "execution_count": null,
   "metadata": {},
   "outputs": [],
   "source": [
    "bath_list\n",
    "len(bath_list)"
   ]
  },
  {
   "cell_type": "code",
   "execution_count": null,
   "metadata": {},
   "outputs": [],
   "source": [
    "bed_list\n",
    "len(bed_list)"
   ]
  },
  {
   "cell_type": "code",
   "execution_count": null,
   "metadata": {},
   "outputs": [],
   "source": [
    "rentage = ({\"title\": titles_list, \n",
    "            \"location\": locations_list,\n",
    "            \"price\": prices_list,\n",
    "            \"toilet\": toilet_list,\n",
    "            \"bath\": bath_list,\n",
    "            \"bed\": bed_list})\n",
    "\n",
    "rentals = pd.DataFrame.from_dict(rentage, orient='index')"
   ]
  },
  {
   "cell_type": "code",
   "execution_count": null,
   "metadata": {},
   "outputs": [],
   "source": [
    "rentals"
   ]
  },
  {
   "cell_type": "code",
   "execution_count": null,
   "metadata": {},
   "outputs": [],
   "source": [
    "rentals.to_csv('rooms.csv') # 3_bedroom to 3_bedroom1 to the page ending."
   ]
  },
  {
   "cell_type": "code",
   "execution_count": null,
   "metadata": {},
   "outputs": [],
   "source": []
  }
 ],
 "metadata": {
  "kernelspec": {
   "display_name": "Python 3",
   "language": "python",
   "name": "python3"
  },
  "language_info": {
   "codemirror_mode": {
    "name": "ipython",
    "version": 3
   },
   "file_extension": ".py",
   "mimetype": "text/x-python",
   "name": "python",
   "nbconvert_exporter": "python",
   "pygments_lexer": "ipython3",
   "version": "3.7.6"
  }
 },
 "nbformat": 4,
 "nbformat_minor": 4
}
